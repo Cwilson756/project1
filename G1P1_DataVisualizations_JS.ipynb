{
 "cells": [
  {
   "cell_type": "markdown",
   "id": "48d3197b",
   "metadata": {},
   "source": [
    "# Group 1 - Project 1\n",
    "## Data Visualizations"
   ]
  },
  {
   "cell_type": "code",
   "execution_count": 1,
   "id": "93a3e593",
   "metadata": {},
   "outputs": [],
   "source": [
    "# Overview of plots\n",
    "# ---Explanation---\n",
    "\n",
    "## Line graph: Fed Funds vs Time\n",
    "## Line graphs: Overall Index Valuation vs Time\n",
    "## Line graph: Index Value Growth Rate vs Time\n",
    "## Line graph: Fed Funds Rate \n",
    "## Box Plot: \n",
    "## Regression Line\n",
    "## Correlation Coefficient"
   ]
  },
  {
   "cell_type": "code",
   "execution_count": 2,
   "id": "a84d6e7b",
   "metadata": {},
   "outputs": [],
   "source": [
    "# Import libraries\n",
    "import pandas as pd\n",
    "import matplotlib.pyplot as plt\n",
    "import numpy as np\n",
    "import os\n",
    "import scipy.stats as st\n",
    "from scipy.stats import linregress\n",
    "import requests\n",
    "import json\n",
    "import pprint\n",
    "from FedConfig import api_key"
   ]
  },
  {
   "cell_type": "code",
   "execution_count": 14,
   "id": "603c2182",
   "metadata": {},
   "outputs": [
    {
     "data": {
      "text/html": [
       "<div>\n",
       "<style scoped>\n",
       "    .dataframe tbody tr th:only-of-type {\n",
       "        vertical-align: middle;\n",
       "    }\n",
       "\n",
       "    .dataframe tbody tr th {\n",
       "        vertical-align: top;\n",
       "    }\n",
       "\n",
       "    .dataframe thead th {\n",
       "        text-align: right;\n",
       "    }\n",
       "</style>\n",
       "<table border=\"1\" class=\"dataframe\">\n",
       "  <thead>\n",
       "    <tr style=\"text-align: right;\">\n",
       "      <th></th>\n",
       "      <th>Date</th>\n",
       "      <th>Fed Funds Rate</th>\n",
       "      <th>NASDAQ Value</th>\n",
       "      <th>S&amp;P 500 Value</th>\n",
       "      <th>DowJones Value</th>\n",
       "      <th>NASDAQ Percent Change</th>\n",
       "      <th>S&amp;P 500 Percent Change</th>\n",
       "      <th>DowJones Percent Change</th>\n",
       "      <th>Fed Funds Rate Percent Change</th>\n",
       "    </tr>\n",
       "  </thead>\n",
       "  <tbody>\n",
       "    <tr>\n",
       "      <th>0</th>\n",
       "      <td>2013-04-01</td>\n",
       "      <td>0.15</td>\n",
       "      <td>3251.351818</td>\n",
       "      <td>1570.70</td>\n",
       "      <td>14675.91</td>\n",
       "      <td>0.46922</td>\n",
       "      <td>1.28146</td>\n",
       "      <td>1.78698</td>\n",
       "      <td>7.14286</td>\n",
       "    </tr>\n",
       "    <tr>\n",
       "      <th>1</th>\n",
       "      <td>2013-05-01</td>\n",
       "      <td>0.11</td>\n",
       "      <td>3440.375455</td>\n",
       "      <td>1639.84</td>\n",
       "      <td>15172.18</td>\n",
       "      <td>5.81369</td>\n",
       "      <td>4.40188</td>\n",
       "      <td>3.38154</td>\n",
       "      <td>-26.66667</td>\n",
       "    </tr>\n",
       "    <tr>\n",
       "      <th>2</th>\n",
       "      <td>2013-06-01</td>\n",
       "      <td>0.09</td>\n",
       "      <td>3416.741500</td>\n",
       "      <td>1618.77</td>\n",
       "      <td>15035.75</td>\n",
       "      <td>-0.68696</td>\n",
       "      <td>-1.28489</td>\n",
       "      <td>-0.89918</td>\n",
       "      <td>-18.18182</td>\n",
       "    </tr>\n",
       "    <tr>\n",
       "      <th>3</th>\n",
       "      <td>2013-07-01</td>\n",
       "      <td>0.09</td>\n",
       "      <td>3559.710909</td>\n",
       "      <td>1668.68</td>\n",
       "      <td>15390.21</td>\n",
       "      <td>4.18438</td>\n",
       "      <td>3.08277</td>\n",
       "      <td>2.35743</td>\n",
       "      <td>0.00000</td>\n",
       "    </tr>\n",
       "    <tr>\n",
       "      <th>4</th>\n",
       "      <td>2013-08-01</td>\n",
       "      <td>0.08</td>\n",
       "      <td>3639.928636</td>\n",
       "      <td>1670.09</td>\n",
       "      <td>15195.35</td>\n",
       "      <td>2.25349</td>\n",
       "      <td>0.08499</td>\n",
       "      <td>-1.26615</td>\n",
       "      <td>-11.11111</td>\n",
       "    </tr>\n",
       "    <tr>\n",
       "      <th>...</th>\n",
       "      <td>...</td>\n",
       "      <td>...</td>\n",
       "      <td>...</td>\n",
       "      <td>...</td>\n",
       "      <td>...</td>\n",
       "      <td>...</td>\n",
       "      <td>...</td>\n",
       "      <td>...</td>\n",
       "      <td>...</td>\n",
       "    </tr>\n",
       "    <tr>\n",
       "      <th>113</th>\n",
       "      <td>2022-09-01</td>\n",
       "      <td>2.56</td>\n",
       "      <td>11402.850000</td>\n",
       "      <td>3850.52</td>\n",
       "      <td>30649.56</td>\n",
       "      <td>-9.28708</td>\n",
       "      <td>-7.40743</td>\n",
       "      <td>-7.14946</td>\n",
       "      <td>9.87124</td>\n",
       "    </tr>\n",
       "    <tr>\n",
       "      <th>114</th>\n",
       "      <td>2022-10-01</td>\n",
       "      <td>3.08</td>\n",
       "      <td>10801.494286</td>\n",
       "      <td>3726.05</td>\n",
       "      <td>30570.68</td>\n",
       "      <td>-5.27373</td>\n",
       "      <td>-3.23254</td>\n",
       "      <td>-0.25735</td>\n",
       "      <td>20.31250</td>\n",
       "    </tr>\n",
       "    <tr>\n",
       "      <th>115</th>\n",
       "      <td>2022-11-01</td>\n",
       "      <td>3.78</td>\n",
       "      <td>10973.638095</td>\n",
       "      <td>3917.49</td>\n",
       "      <td>33417.96</td>\n",
       "      <td>1.59370</td>\n",
       "      <td>5.13782</td>\n",
       "      <td>9.31374</td>\n",
       "      <td>22.72727</td>\n",
       "    </tr>\n",
       "    <tr>\n",
       "      <th>116</th>\n",
       "      <td>2022-12-01</td>\n",
       "      <td>4.10</td>\n",
       "      <td>10838.995714</td>\n",
       "      <td>3912.38</td>\n",
       "      <td>33482.26</td>\n",
       "      <td>-1.22696</td>\n",
       "      <td>-0.13038</td>\n",
       "      <td>0.19241</td>\n",
       "      <td>8.46561</td>\n",
       "    </tr>\n",
       "    <tr>\n",
       "      <th>117</th>\n",
       "      <td>2023-01-01</td>\n",
       "      <td>4.33</td>\n",
       "      <td>11013.991000</td>\n",
       "      <td>3960.66</td>\n",
       "      <td>33656.00</td>\n",
       "      <td>1.61450</td>\n",
       "      <td>1.23392</td>\n",
       "      <td>0.51891</td>\n",
       "      <td>5.60976</td>\n",
       "    </tr>\n",
       "  </tbody>\n",
       "</table>\n",
       "<p>118 rows × 9 columns</p>\n",
       "</div>"
      ],
      "text/plain": [
       "           Date  Fed Funds Rate  NASDAQ Value  S&P 500 Value  DowJones Value  \\\n",
       "0    2013-04-01            0.15   3251.351818        1570.70        14675.91   \n",
       "1    2013-05-01            0.11   3440.375455        1639.84        15172.18   \n",
       "2    2013-06-01            0.09   3416.741500        1618.77        15035.75   \n",
       "3    2013-07-01            0.09   3559.710909        1668.68        15390.21   \n",
       "4    2013-08-01            0.08   3639.928636        1670.09        15195.35   \n",
       "..          ...             ...           ...            ...             ...   \n",
       "113  2022-09-01            2.56  11402.850000        3850.52        30649.56   \n",
       "114  2022-10-01            3.08  10801.494286        3726.05        30570.68   \n",
       "115  2022-11-01            3.78  10973.638095        3917.49        33417.96   \n",
       "116  2022-12-01            4.10  10838.995714        3912.38        33482.26   \n",
       "117  2023-01-01            4.33  11013.991000        3960.66        33656.00   \n",
       "\n",
       "     NASDAQ Percent Change  S&P 500 Percent Change  DowJones Percent Change  \\\n",
       "0                  0.46922                 1.28146                  1.78698   \n",
       "1                  5.81369                 4.40188                  3.38154   \n",
       "2                 -0.68696                -1.28489                 -0.89918   \n",
       "3                  4.18438                 3.08277                  2.35743   \n",
       "4                  2.25349                 0.08499                 -1.26615   \n",
       "..                     ...                     ...                      ...   \n",
       "113               -9.28708                -7.40743                 -7.14946   \n",
       "114               -5.27373                -3.23254                 -0.25735   \n",
       "115                1.59370                 5.13782                  9.31374   \n",
       "116               -1.22696                -0.13038                  0.19241   \n",
       "117                1.61450                 1.23392                  0.51891   \n",
       "\n",
       "     Fed Funds Rate Percent Change  \n",
       "0                          7.14286  \n",
       "1                        -26.66667  \n",
       "2                        -18.18182  \n",
       "3                          0.00000  \n",
       "4                        -11.11111  \n",
       "..                             ...  \n",
       "113                        9.87124  \n",
       "114                       20.31250  \n",
       "115                       22.72727  \n",
       "116                        8.46561  \n",
       "117                        5.60976  \n",
       "\n",
       "[118 rows x 9 columns]"
      ]
     },
     "execution_count": 14,
     "metadata": {},
     "output_type": "execute_result"
    }
   ],
   "source": [
    "# Import Data from G1P1 Analysis notebook\n",
    "# Import combined index csv\n",
    "combined_index_path = 'resources/combined_index_df.csv'\n",
    "ci_df = pd.read_csv(combined_index_path, encoding = 'UTF-8')\n",
    "ci_df"
   ]
  },
  {
   "cell_type": "markdown",
   "id": "4769250f",
   "metadata": {},
   "source": []
  },
  {
   "cell_type": "markdown",
   "id": "22be6880",
   "metadata": {},
   "source": [
    "### Line Graph: Fed Funds Rate "
   ]
  },
  {
   "cell_type": "code",
   "execution_count": null,
   "id": "49397724",
   "metadata": {},
   "outputs": [],
   "source": []
  },
  {
   "cell_type": "markdown",
   "id": "f9dc2853",
   "metadata": {},
   "source": [
    "---Explanation--"
   ]
  },
  {
   "cell_type": "markdown",
   "id": "493340ae",
   "metadata": {},
   "source": [
    "### Line Graph: Fed Funds vs Time \n"
   ]
  },
  {
   "cell_type": "code",
   "execution_count": null,
   "id": "72bbc74c",
   "metadata": {},
   "outputs": [],
   "source": []
  },
  {
   "cell_type": "markdown",
   "id": "2539e420",
   "metadata": {},
   "source": [
    "---Explanation--"
   ]
  },
  {
   "cell_type": "code",
   "execution_count": null,
   "id": "dd406bd6",
   "metadata": {},
   "outputs": [],
   "source": []
  },
  {
   "cell_type": "markdown",
   "id": "bdbac561",
   "metadata": {},
   "source": [
    "### Line Graphs: Overall Index Valuation vs Time"
   ]
  },
  {
   "cell_type": "code",
   "execution_count": null,
   "id": "e31e280d",
   "metadata": {},
   "outputs": [],
   "source": []
  },
  {
   "cell_type": "markdown",
   "id": "ef87ca17",
   "metadata": {},
   "source": [
    "---Explanation--"
   ]
  },
  {
   "cell_type": "markdown",
   "id": "53256061",
   "metadata": {},
   "source": [
    "## Line Graphs: NASDAQ Index Valuation vs Time"
   ]
  },
  {
   "cell_type": "markdown",
   "id": "e7bb0f26",
   "metadata": {},
   "source": [
    "### Line Graph: Index Value Growth Rate vs Time\n"
   ]
  },
  {
   "cell_type": "code",
   "execution_count": null,
   "id": "431ebe63",
   "metadata": {},
   "outputs": [],
   "source": []
  },
  {
   "cell_type": "markdown",
   "id": "d1cdf868",
   "metadata": {},
   "source": [
    "---Explanation--"
   ]
  },
  {
   "cell_type": "code",
   "execution_count": null,
   "id": "5f3fcb3f",
   "metadata": {},
   "outputs": [],
   "source": []
  },
  {
   "cell_type": "markdown",
   "id": "b074ee6c",
   "metadata": {},
   "source": [
    "## Fed Funds vs NASDAQ (% change monthly plot)\n"
   ]
  },
  {
   "cell_type": "code",
   "execution_count": null,
   "id": "6a4d6206",
   "metadata": {},
   "outputs": [],
   "source": []
  },
  {
   "cell_type": "markdown",
   "id": "f4247072",
   "metadata": {},
   "source": [
    "---Explanation---"
   ]
  },
  {
   "cell_type": "markdown",
   "id": "aa097e5d",
   "metadata": {},
   "source": [
    "### Box Plot: \n"
   ]
  },
  {
   "cell_type": "code",
   "execution_count": null,
   "id": "7581e9a0",
   "metadata": {},
   "outputs": [],
   "source": []
  },
  {
   "cell_type": "markdown",
   "id": "ddb34420",
   "metadata": {},
   "source": [
    "---Explanation--"
   ]
  },
  {
   "cell_type": "markdown",
   "id": "7bb2b4d2",
   "metadata": {},
   "source": [
    "### Regression Plot Line\n"
   ]
  },
  {
   "cell_type": "code",
   "execution_count": 23,
   "id": "83f211e1",
   "metadata": {},
   "outputs": [
    {
     "data": {
      "image/png": "[encoded data removed]",
      "text/plain": [
       "<Figure size 640x480 with 1 Axes>"
      ]
     },
     "metadata": {},
     "output_type": "display_data"
    }
   ],
   "source": [
    " # Plot out rooms versus median house price\n",
    "x_values = ci_df['Fed Funds Rate']\n",
    "y_values = ci_df['NASDAQ Percent Change']\n",
    "plt.scatter(x_values,y_values)\n",
    "plt.xlabel('Fed Funds Rate')\n",
    "plt.ylabel('Index (NASDAQ) % Change')\n",
    "plt.show()"
   ]
  },
  {
   "cell_type": "markdown",
   "id": "f525c6de",
   "metadata": {},
   "source": [
    "---Explanation--"
   ]
  },
  {
   "cell_type": "code",
   "execution_count": 24,
   "id": "220cd106",
   "metadata": {},
   "outputs": [
    {
     "name": "stdout",
     "output_type": "stream",
     "text": [
      "The r-squared is: 0.01200206754643712\n"
     ]
    },
    {
     "data": {
      "image/png": "[encoded data removed]",
      "text/plain": [
       "<Figure size 640x480 with 1 Axes>"
      ]
     },
     "metadata": {},
     "output_type": "display_data"
    }
   ],
   "source": [
    "# Regression plot\n",
    "\n",
    "# Values\n",
    "x_values = ci_df['Fed Funds Rate']\n",
    "y_values = ci_df['NASDAQ Percent Change']\n",
    "\n",
    "# Regression\n",
    "(slope, intercept, rvalue, pvalue, stderr) = linregress(x_values, y_values)\n",
    "regress_values = x_values * slope + intercept\n",
    "line_eq = \"y = \" + str(round(slope,2)) + \"x + \" + str(round(intercept,2))\n",
    "\n",
    "# Plot\n",
    "plt.scatter(x_values,y_values)\n",
    "plt.plot(x_values,regress_values,\"r-\")\n",
    "plt.xlabel('Fed Funds Rate')\n",
    "plt.ylabel('Index (NASDAQ) % Change')\n",
    "plt.annotate(line_eq,(5.8,0.8),fontsize=15,color=\"red\")\n",
    "print(f\"The r-squared is: {rvalue**2}\")\n",
    "plt.show()"
   ]
  },
  {
   "cell_type": "markdown",
   "id": "27ebc789",
   "metadata": {},
   "source": [
    "### Correlation Coefficient"
   ]
  },
  {
   "cell_type": "code",
   "execution_count": null,
   "id": "23f75ee0",
   "metadata": {},
   "outputs": [],
   "source": []
  },
  {
   "cell_type": "markdown",
   "id": "6dca7e15",
   "metadata": {},
   "source": [
    "---Explanation--"
   ]
  },
  {
   "cell_type": "markdown",
   "id": "8b86ca5a",
   "metadata": {},
   "source": [
    "## P-Value"
   ]
  },
  {
   "cell_type": "code",
   "execution_count": 27,
   "id": "fbd42143",
   "metadata": {},
   "outputs": [
    {
     "data": {
      "image/png": "[encoded data removed]",
      "text/plain": [
       "<Figure size 640x480 with 1 Axes>"
      ]
     },
     "metadata": {},
     "output_type": "display_data"
    },
    {
     "name": "stdout",
     "output_type": "stream",
     "text": [
      "1.1289160169491528\n",
      "1.73232\n",
      "0     -17.48244\n",
      "1     -11.67996\n",
      "2      -9.28708\n",
      "3      -8.52738\n",
      "4      -6.09427\n",
      "         ...   \n",
      "113     6.78511\n",
      "114     6.99133\n",
      "115     8.06439\n",
      "116     8.15331\n",
      "117     9.80714\n",
      "Name: NASDAQ Percent Change, Length: 118, dtype: float64\n"
     ]
    }
   ],
   "source": [
    " # Determine which measure of central tendency is most appropriate to describe the Percent Change of NASDAQ\n",
    "plt.hist(ci_df['NASDAQ Percent Change'])\n",
    "plt.xlabel('Fed Funds Rate')\n",
    "plt.ylabel('NASDAQ Percent Change')\n",
    "plt.show()\n",
    "print(ci_df['NASDAQ Percent Change'].mean())\n",
    "print(ci_df['NASDAQ Percent Change'].median())\n",
    "print(ci_df['NASDAQ Percent Change'].mode())"
   ]
  },
  {
   "cell_type": "code",
   "execution_count": 28,
   "id": "7494db68",
   "metadata": {},
   "outputs": [
    {
     "data": {
      "image/png": "[encoded data removed]",
      "text/plain": [
       "<Figure size 640x480 with 1 Axes>"
      ]
     },
     "metadata": {},
     "output_type": "display_data"
    },
    {
     "name": "stdout",
     "output_type": "stream",
     "text": [
      "NormaltestResult(statistic=33.646063128643746, pvalue=4.9414024102740315e-08)\n"
     ]
    }
   ],
   "source": [
    "# Determine if the house age in California is normally distributed\n",
    "plt.hist(ci_df['NASDAQ Percent Change'])\n",
    "plt.xlabel('Fed Funds Rate')\n",
    "plt.ylabel('NASDAQ Percent Change')\n",
    "plt.show()\n",
    "print(st.normaltest(ci_df[\"NASDAQ Percent Change\"].sample(100)))"
   ]
  },
  {
   "cell_type": "markdown",
   "id": "2f82f3d1",
   "metadata": {},
   "source": [
    "---Explanation--"
   ]
  },
  {
   "cell_type": "markdown",
   "id": "b6e737ed",
   "metadata": {},
   "source": [
    "## Summary"
   ]
  },
  {
   "cell_type": "markdown",
   "id": "f121745c",
   "metadata": {},
   "source": [
    "---Explanation--"
   ]
  },
  {
   "cell_type": "code",
   "execution_count": null,
   "id": "22f57cca",
   "metadata": {},
   "outputs": [],
   "source": []
  }
 ],
 "metadata": {
  "kernelspec": {
   "display_name": "PythonData2",
   "language": "python",
   "name": "pythondata2"
  },
  "language_info": {
   "codemirror_mode": {
    "name": "ipython",
    "version": 3
   },
   "file_extension": ".py",
   "mimetype": "text/x-python",
   "name": "python",
   "nbconvert_exporter": "python",
   "pygments_lexer": "ipython3",
   "version": "3.10.9"
  },
  "vscode": {
   "interpreter": {
    "hash": "6f42bcaf75ead1afa3e13462ed89ae1ab3ed0ff67e1e3c0bad673416e582d8f2"
   }
  }
 },
 "nbformat": 4,
 "nbformat_minor": 5
}
