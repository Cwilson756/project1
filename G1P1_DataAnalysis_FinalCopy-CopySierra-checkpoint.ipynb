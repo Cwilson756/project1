{
 "cells": [
  {
   "cell_type": "markdown",
   "metadata": {},
   "source": [
    "# Group 1 - Project 1\n",
    "## Data Analysis"
   ]
  },
  {
   "cell_type": "markdown",
   "metadata": {},
   "source": [
    "#### Data wrangling, cleaning, reformatting, plotting, and basic analysis."
   ]
  },
  {
   "cell_type": "code",
   "execution_count": 1,
   "metadata": {},
   "outputs": [
    {
     "ename": "ModuleNotFoundError",
     "evalue": "No module named 'FedConfig'",
     "output_type": "error",
     "traceback": [
      "\u001b[1;31m---------------------------------------------------------------------------\u001b[0m",
      "\u001b[1;31mModuleNotFoundError\u001b[0m                       Traceback (most recent call last)",
      "\u001b[1;32m~\\AppData\\Local\\Temp\\ipykernel_11568\\4004260934.py\u001b[0m in \u001b[0;36m<module>\u001b[1;34m\u001b[0m\n\u001b[0;32m      8\u001b[0m \u001b[1;32mimport\u001b[0m \u001b[0mjson\u001b[0m\u001b[1;33m\u001b[0m\u001b[1;33m\u001b[0m\u001b[0m\n\u001b[0;32m      9\u001b[0m \u001b[1;32mfrom\u001b[0m \u001b[0mpprint\u001b[0m \u001b[1;32mimport\u001b[0m \u001b[0mpp\u001b[0m\u001b[1;33m\u001b[0m\u001b[1;33m\u001b[0m\u001b[0m\n\u001b[1;32m---> 10\u001b[1;33m \u001b[1;32mfrom\u001b[0m \u001b[0mFedConfig\u001b[0m \u001b[1;32mimport\u001b[0m \u001b[0mapi_key\u001b[0m\u001b[1;33m\u001b[0m\u001b[1;33m\u001b[0m\u001b[0m\n\u001b[0m",
      "\u001b[1;31mModuleNotFoundError\u001b[0m: No module named 'FedConfig'"
     ]
    }
   ],
   "source": [
    "# Import libraries\n",
    "import pandas as pd\n",
    "import matplotlib.pyplot as plt\n",
    "import numpy as np\n",
    "import os\n",
    "import scipy.stats as st\n",
    "import requests\n",
    "import json\n",
    "from pprint import pp\n",
    "from FedConfig import api_key"
   ]
  },
  {
   "cell_type": "markdown",
   "metadata": {},
   "source": [
    "## Federal Funds (Fed Funds) Rate Analysis\n",
    "\n",
    "#### Fed Funds Rate Import and DataFrame"
   ]
  },
  {
   "cell_type": "code",
   "execution_count": null,
   "metadata": {},
   "outputs": [],
   "source": [
    "# Import Fed Funds Data CSV\n",
    "fed_path = 'resources/FEDFUNDS.csv'\n",
    "fed_df = pd.read_csv(fed_path, encoding = 'UTF-8')\n",
    "\n",
    "# Change Data Type\n",
    "fed_df['DATE'] = pd.to_datetime(fed_df['DATE'])\n",
    "fed_df.rename(columns={'DATE':'Date','FEDFUNDS':'Fed Funds Rate'}, inplace=True)\n",
    "\n",
    "# Preview Fed Funds Data\n",
    "fed_df\n"
   ]
  },
  {
   "cell_type": "markdown",
   "metadata": {},
   "source": [
    "#### Fed Funds Rate Line Graph"
   ]
  },
  {
   "cell_type": "code",
   "execution_count": null,
   "metadata": {},
   "outputs": [],
   "source": [
    "# Plot Fed Funds DataFrame\n",
    "fed_df.plot(x='Date', y='Fed Funds Rate', kind='line')\n",
    "plt.show()"
   ]
  },
  {
   "cell_type": "markdown",
   "metadata": {},
   "source": [
    "\n",
    "#### Fed Funds Percent Change Import\n"
   ]
  },
  {
   "cell_type": "code",
   "execution_count": null,
   "metadata": {},
   "outputs": [],
   "source": [
    "# Import Fed Funds Percent Change Data\n",
    "ff_change_url = f'https://api.stlouisfed.org/fred/series/observations?series_id=FEDFUNDS&frequency=m&api_key={api_key}&file_type=json&units=pch'\n",
    "ff_change_r=requests.get(ff_change_url)\n",
    "ff_change_data = ff_change_r.json()\n",
    "pprint(ff_change_data['observations'][0:4])\n",
    "pprint(ff_change_data['observations'][-5:])\n"
   ]
  },
  {
   "cell_type": "markdown",
   "metadata": {},
   "source": [
    "#### Fed Funds Rate Percent Change DataFrame"
   ]
  },
  {
   "cell_type": "code",
   "execution_count": null,
   "metadata": {},
   "outputs": [],
   "source": [
    "# Create Fed Funds Rate Percent Change DataFrame\n",
    "ff_change_df = pd.DataFrame(ff_change_data)\n",
    "\n",
    "# Reformatting Data\n",
    "ff_change_df = ff_change_df['observations'].apply(pd.Series)\n",
    "ff_change_df = ff_change_df[['date','value']]\n",
    "ff_change_df = ff_change_df[ff_change_df['value'] != '.']\n",
    "ff_change_df['value'] = ff_change_df['value'].astype(float)\n",
    "ff_change_df['date'] = pd.to_datetime(ff_change_df['date'])\n",
    "ff_change_df.rename(columns={'date':'Date','value':'Fed Funds Rate Percent Change'}, inplace=True)\n",
    "ff_change_df\n"
   ]
  },
  {
   "cell_type": "markdown",
   "metadata": {},
   "source": [
    "#### Fed Funds Rate Percent Change Line Graph"
   ]
  },
  {
   "cell_type": "code",
   "execution_count": null,
   "metadata": {},
   "outputs": [],
   "source": [
    "# Plot Fed Funds Percent Change DataFrame\n",
    "ff_change_df.plot(x= 'Date', y='Fed Funds Rate Percent Change', kind='line')\n",
    "plt.show()"
   ]
  },
  {
   "cell_type": "markdown",
   "metadata": {},
   "source": [
    "#### Fed Funds Rate Value Change Import"
   ]
  },
  {
   "cell_type": "code",
   "execution_count": null,
   "metadata": {},
   "outputs": [],
   "source": [
    "# Import Fed Funds Rate Value Change Data\n",
    "ff_valuechange_url = f'https://api.stlouisfed.org/fred/series/observations?series_id=FEDFUNDS&frequency=m&api_key={api_key}&file_type=json&units=chg'\n",
    "ff_valuechange_r=requests.get(ff_valuechange_url)\n",
    "ff_valuechange_data = ff_valuechange_r.json()\n",
    "pprint(ff_valuechange_data['observations'][0:4])\n",
    "pprint(ff_valuechange_data['observations'][-5:])\n"
   ]
  },
  {
   "cell_type": "markdown",
   "metadata": {},
   "source": [
    "#### Fed Funds Rate Value Change DataFrame"
   ]
  },
  {
   "cell_type": "code",
   "execution_count": null,
   "metadata": {},
   "outputs": [],
   "source": [
    "# Create Fed Funds Rate Value Change dataframe\n",
    "ff_valuechange_df = pd.DataFrame(ff_valuechange_data)\n",
    "\n",
    "# Reformatting data\n",
    "ff_valuechange_df = ff_valuechange_df['observations'].apply(pd.Series)\n",
    "ff_valuechange_df = ff_valuechange_df[['date','value']]\n",
    "ff_valuechange_df = ff_valuechange_df[ff_valuechange_df['value'] != '.']\n",
    "ff_valuechange_df['value'] = ff_valuechange_df['value'].astype(float)\n",
    "ff_valuechange_df['date'] = pd.to_datetime(ff_valuechange_df['date'])\n",
    "ff_valuechange_df.rename(columns={'date':'Date','value':'Fed Funds Rate Value Change'}, inplace=True)\n",
    "ff_valuechange_df"
   ]
  },
  {
   "cell_type": "markdown",
   "metadata": {},
   "source": [
    "## S&P 500"
   ]
  },
  {
   "cell_type": "markdown",
   "metadata": {},
   "source": [
    "#### S&P 500 Value Data Import"
   ]
  },
  {
   "cell_type": "code",
   "execution_count": null,
   "metadata": {},
   "outputs": [],
   "source": [
    "# Import S&P 500 Value Data\n",
    "SP500_url = f'https://api.stlouisfed.org/fred/series/observations?series_id=SP500&frequency=m&api_key={api_key}&file_type=json'\n",
    "SP500r=requests.get(SP500_url)\n",
    "SP500_data = SP500r.json()\n",
    "pprint(SP500_data['observations'][0:4])\n",
    "pprint(SP500_data['observations'][-5:])\n"
   ]
  },
  {
   "cell_type": "markdown",
   "metadata": {},
   "source": [
    "#### S&P 500 DataFrame"
   ]
  },
  {
   "cell_type": "code",
   "execution_count": null,
   "metadata": {},
   "outputs": [],
   "source": [
    "# Create S&P 500 DataFrame\n",
    "SP500_df = pd.DataFrame(SP500_data)\n",
    "\n",
    "# Reformatting Data\n",
    "SP500_df = SP500_df['observations'].apply(pd.Series)\n",
    "SP500_df = SP500_df[['date','value']]\n",
    "SP500_df = SP500_df[SP500_df['value'] != '.']\n",
    "SP500_df['value'] = SP500_df['value'].astype(float)\n",
    "SP500_df['date'] = pd.to_datetime(SP500_df['date'])\n",
    "SP500_df.rename(columns={'date':'Date','value':'S&P 500 Value'}, inplace=True)\n",
    "SP500_df"
   ]
  },
  {
   "cell_type": "markdown",
   "metadata": {},
   "source": [
    "#### S&P 500 Value Line Graph"
   ]
  },
  {
   "cell_type": "code",
   "execution_count": null,
   "metadata": {},
   "outputs": [],
   "source": [
    "# Plot SP500 Valuation DataFrame\n",
    "SP500_df.plot(x= 'Date', y='S&P 500 Value', kind='line')\n",
    "plt.show()"
   ]
  },
  {
   "cell_type": "markdown",
   "metadata": {},
   "source": [
    "#### S&P 500 Percent Change Import\n"
   ]
  },
  {
   "cell_type": "code",
   "execution_count": null,
   "metadata": {},
   "outputs": [],
   "source": [
    "# Import S&P 500 Percent Change Data\n",
    "SP500_change_url = f'https://api.stlouisfed.org/fred/series/observations?series_id=SP500&frequency=m&api_key={api_key}&file_type=json&units=pch'\n",
    "SP500_change_r=requests.get(SP500_change_url)\n",
    "SP500_change_data = SP500_change_r.json()\n",
    "pprint(SP500_change_data['observations'][0:4])\n",
    "pprint(SP500_change_data['observations'][-5:])\n"
   ]
  },
  {
   "cell_type": "markdown",
   "metadata": {},
   "source": [
    "##### S&P 500 Percent Change DataFrame"
   ]
  },
  {
   "cell_type": "code",
   "execution_count": null,
   "metadata": {},
   "outputs": [],
   "source": [
    "# Create S&P 500 Percent Change DataFrame\n",
    "SP500_change_df = pd.DataFrame(SP500_change_data)\n",
    "\n",
    "# Reformatting data\n",
    "SP500_change_df = SP500_change_df['observations'].apply(pd.Series)\n",
    "SP500_change_df = SP500_change_df[['date','value']]\n",
    "SP500_change_df = SP500_change_df[SP500_change_df['value'] != '.']\n",
    "SP500_change_df['value'] = SP500_change_df['value'].astype(float)\n",
    "SP500_change_df['date'] = pd.to_datetime(SP500_change_df['date'])\n",
    "SP500_change_df.rename(columns={'date':'Date','value':'S&P 500 Percent Change'}, inplace=True)\n",
    "SP500_change_df"
   ]
  },
  {
   "cell_type": "markdown",
   "metadata": {},
   "source": [
    "#### S&P 500 Percent Change Line Graph"
   ]
  },
  {
   "cell_type": "code",
   "execution_count": null,
   "metadata": {},
   "outputs": [],
   "source": [
    "# Plot SP500 Percent Change DataFrame\n",
    "SP500_change_df.plot(x= 'Date', y='S&P 500 Percent Change', kind='line')\n",
    "plt.show()"
   ]
  },
  {
   "cell_type": "markdown",
   "metadata": {},
   "source": [
    "#### S&P 500 Value Change Import"
   ]
  },
  {
   "cell_type": "code",
   "execution_count": null,
   "metadata": {},
   "outputs": [],
   "source": [
    "# Import S&P 500 Value Change Data\n",
    "SP500_valuechange_url = f'https://api.stlouisfed.org/fred/series/observations?series_id=SP500&frequency=m&api_key={api_key}&file_type=json&units=chg'\n",
    "SP500r_valuechange=requests.get(SP500_valuechange_url)\n",
    "SP500_valuechange_data = SP500r_valuechange.json()\n",
    "pprint(SP500_valuechange_data['observations'][0:4])\n",
    "pprint(SP500_valuechange_data['observations'][-5:])\n"
   ]
  },
  {
   "cell_type": "markdown",
   "metadata": {},
   "source": [
    "#### S&P 500 Value Change DataFrame"
   ]
  },
  {
   "cell_type": "code",
   "execution_count": null,
   "metadata": {},
   "outputs": [],
   "source": [
    "# Create S&P 500 Value Change DataFrame\n",
    "SP500_valuechange_df = pd.DataFrame(SP500_valuechange_data)\n",
    "\n",
    "# Reformatting data\n",
    "SP500_valuechange_df = SP500_valuechange_df['observations'].apply(pd.Series)\n",
    "SP500_valuechange_df = SP500_valuechange_df[['date','value']]\n",
    "SP500_valuechange_df = SP500_valuechange_df[SP500_valuechange_df['value'] != '.']\n",
    "SP500_valuechange_df['value'] = SP500_valuechange_df['value'].astype(float)\n",
    "SP500_valuechange_df['date'] = pd.to_datetime(SP500_valuechange_df['date'])\n",
    "SP500_valuechange_df.rename(columns={'date':'Date','value':'S&P 500 Value Change'}, inplace=True)\n",
    "SP500_valuechange_df"
   ]
  },
  {
   "cell_type": "markdown",
   "metadata": {},
   "source": [
    "## NASDAQ"
   ]
  },
  {
   "cell_type": "markdown",
   "metadata": {},
   "source": [
    "#### NASDAQ Value Data Import"
   ]
  },
  {
   "cell_type": "code",
   "execution_count": null,
   "metadata": {},
   "outputs": [],
   "source": [
    "# Import Nasdaq Data\n",
    "NASDAQ_url = f'https://api.stlouisfed.org/fred/series/observations?series_id=NASDAQCOM&frequency=m&api_key={api_key}&file_type=json'\n",
    "NASDAQr=requests.get(NASDAQ_url)\n",
    "NASDAQ_data = NASDAQr.json()\n",
    "pprint(NASDAQ_data['observations'][0:4])\n",
    "pprint(NASDAQ_data['observations'][-5:])\n"
   ]
  },
  {
   "cell_type": "markdown",
   "metadata": {},
   "source": [
    "#### NASDAQ DataFrame"
   ]
  },
  {
   "cell_type": "code",
   "execution_count": null,
   "metadata": {},
   "outputs": [],
   "source": [
    "# Create NASDAQ DataFrame\n",
    "NASDAQ_df = pd.DataFrame(NASDAQ_data)\n",
    "\n",
    "# Reformatting Data\n",
    "NASDAQ_df = NASDAQ_df['observations'].apply(pd.Series)\n",
    "NASDAQ_df = NASDAQ_df[['date','value']]\n",
    "NASDAQ_df = NASDAQ_df[NASDAQ_df['value'] != '.']\n",
    "NASDAQ_df['value'] = NASDAQ_df['value'].astype(float)\n",
    "NASDAQ_df['date'] = pd.to_datetime(NASDAQ_df['date'])\n",
    "NASDAQ_df.rename(columns={'date':'Date','value':'NASDAQ Value'}, inplace=True)\n",
    "NASDAQ_df"
   ]
  },
  {
   "cell_type": "markdown",
   "metadata": {},
   "source": [
    "#### NASDAQ Value Line Graph"
   ]
  },
  {
   "cell_type": "code",
   "execution_count": null,
   "metadata": {},
   "outputs": [],
   "source": [
    "# Plot NASDAQ DataFrame\n",
    "NASDAQ_df.plot(x= 'Date', y='NASDAQ Value', kind='line')\n",
    "plt.show()"
   ]
  },
  {
   "cell_type": "markdown",
   "metadata": {},
   "source": [
    "#### NASDAQ Percent Change Import"
   ]
  },
  {
   "cell_type": "code",
   "execution_count": null,
   "metadata": {},
   "outputs": [],
   "source": [
    "# Import Nasdaq Percent Change Data\n",
    "NASDAQ_change_url = f'https://api.stlouisfed.org/fred/series/observations?series_id=NASDAQCOM&frequency=m&api_key={api_key}&file_type=json&units=pch'\n",
    "NASDAQ_change_r=requests.get(NASDAQ_change_url)\n",
    "NASDAQ_change_data = NASDAQ_change_r.json()\n",
    "pprint(NASDAQ_change_data['observations'][0:4])\n",
    "pprint(NASDAQ_change_data['observations'][-5:])\n"
   ]
  },
  {
   "cell_type": "markdown",
   "metadata": {},
   "source": [
    "#### NASDAQ Percent Change DataFrame"
   ]
  },
  {
   "cell_type": "code",
   "execution_count": null,
   "metadata": {},
   "outputs": [],
   "source": [
    "# Create NASDAQ Percent Change DataFrame\n",
    "NASDAQ_change_df = pd.DataFrame(NASDAQ_change_data)\n",
    "\n",
    "# Reformatting data\n",
    "NASDAQ_change_df = NASDAQ_change_df['observations'].apply(pd.Series)\n",
    "NASDAQ_change_df = NASDAQ_change_df[['date','value']]\n",
    "NASDAQ_change_df = NASDAQ_change_df[NASDAQ_change_df['value'] != '.']\n",
    "NASDAQ_change_df['value'] = NASDAQ_change_df['value'].astype(float)\n",
    "NASDAQ_change_df['date'] = pd.to_datetime(NASDAQ_change_df['date'])\n",
    "NASDAQ_change_df.rename(columns={'date':'Date','value':'NASDAQ Percent Change'}, inplace=True)\n",
    "NASDAQ_change_df"
   ]
  },
  {
   "cell_type": "markdown",
   "metadata": {},
   "source": [
    "#### NASDAQ Percent Change Line Graph"
   ]
  },
  {
   "cell_type": "code",
   "execution_count": null,
   "metadata": {},
   "outputs": [],
   "source": [
    "# Plot NASDAQ Percent Change DataFrame\n",
    "NASDAQ_change_df.plot(x= 'Date', y='NASDAQ Percent Change', kind='line')\n",
    "plt.show()"
   ]
  },
  {
   "cell_type": "markdown",
   "metadata": {},
   "source": [
    "#### NASDAQ Value Change Import"
   ]
  },
  {
   "cell_type": "code",
   "execution_count": null,
   "metadata": {},
   "outputs": [],
   "source": [
    "# Import NASDAQ Value Change Data\n",
    "NASDAQ_valuechange_url = f'https://api.stlouisfed.org/fred/series/observations?series_id=NASDAQCOM&frequency=m&api_key={api_key}&file_type=json&units=chg'\n",
    "NASDAQr_valuechange=requests.get(NASDAQ_valuechange_url)\n",
    "NASDAQ_valuechange_data = NASDAQr_valuechange.json()\n",
    "pprint(NASDAQ_valuechange_data['observations'][0:4])\n",
    "pprint(NASDAQ_valuechange_data['observations'][-5:])\n"
   ]
  },
  {
   "cell_type": "markdown",
   "metadata": {},
   "source": [
    "#### NASDAQ Value Change DataFrame"
   ]
  },
  {
   "cell_type": "code",
   "execution_count": null,
   "metadata": {},
   "outputs": [],
   "source": [
    "# Create NASDAQ Value Change DataFrame\n",
    "NASDAQ_valuechange_df = pd.DataFrame(NASDAQ_valuechange_data)\n",
    "\n",
    "# Reformatting data\n",
    "NASDAQ_valuechange_df = NASDAQ_valuechange_df['observations'].apply(pd.Series)\n",
    "NASDAQ_valuechange_df = NASDAQ_valuechange_df[['date','value']]\n",
    "NASDAQ_valuechange_df = NASDAQ_valuechange_df[NASDAQ_valuechange_df['value'] != '.']\n",
    "NASDAQ_valuechange_df['value'] = NASDAQ_valuechange_df['value'].astype(float)\n",
    "NASDAQ_valuechange_df['date'] = pd.to_datetime(NASDAQ_valuechange_df['date'])\n",
    "NASDAQ_valuechange_df.rename(columns={'date':'Date','value':'NASDAQ Value Change'}, inplace=True)\n",
    "NASDAQ_valuechange_df"
   ]
  },
  {
   "cell_type": "markdown",
   "metadata": {},
   "source": [
    "## Dow Jones"
   ]
  },
  {
   "cell_type": "markdown",
   "metadata": {},
   "source": [
    "#### Dow Jones Import"
   ]
  },
  {
   "cell_type": "code",
   "execution_count": null,
   "metadata": {},
   "outputs": [],
   "source": [
    "# Import Dow Jones Data\n",
    "DowJones_url = f'https://api.stlouisfed.org/fred/series/observations?series_id=DJIA&frequency=m&api_key={api_key}&file_type=json'\n",
    "DowJonesr=requests.get(DowJones_url)\n",
    "DowJones_data = DowJonesr.json()\n",
    "pprint(DowJones_data['observations'][0:4])\n",
    "pprint(DowJones_data['observations'][-5:])\n"
   ]
  },
  {
   "cell_type": "markdown",
   "metadata": {},
   "source": [
    "#### Dow Jones DataFrame"
   ]
  },
  {
   "cell_type": "code",
   "execution_count": null,
   "metadata": {},
   "outputs": [],
   "source": [
    "# Create Dow Jones DataFrame\n",
    "DowJones_df = pd.DataFrame(DowJones_data)\n",
    "\n",
    "# Reformatting Data\n",
    "DowJones_df = DowJones_df['observations'].apply(pd.Series)\n",
    "DowJones_df = DowJones_df[['date','value']]\n",
    "DowJones_df = DowJones_df[DowJones_df['value'] != '.']\n",
    "DowJones_df['value'] = DowJones_df['value'].astype(float)\n",
    "DowJones_df['date'] = pd.to_datetime(DowJones_df['date'])\n",
    "DowJones_df.rename(columns={'date':'Date','value':'DowJones Value'}, inplace=True)\n",
    "DowJones_df"
   ]
  },
  {
   "cell_type": "markdown",
   "metadata": {},
   "source": [
    "#### Dow Jones Value Line Graph"
   ]
  },
  {
   "cell_type": "code",
   "execution_count": null,
   "metadata": {},
   "outputs": [],
   "source": [
    "# Plot Dow Jones DataFrame\n",
    "DowJones_df.plot(x= 'Date', y='DowJones Value', kind='line')\n",
    "plt.show()"
   ]
  },
  {
   "cell_type": "markdown",
   "metadata": {},
   "source": [
    "#### Dow Jones Percent Change Import"
   ]
  },
  {
   "cell_type": "code",
   "execution_count": null,
   "metadata": {},
   "outputs": [],
   "source": [
    "# Import Dow Jones percent change data\n",
    "DowJones_change_url = f'https://api.stlouisfed.org/fred/series/observations?series_id=DJIA&frequency=m&api_key={api_key}&file_type=json&units=pch'\n",
    "DowJones_change_r=requests.get(DowJones_change_url)\n",
    "DowJones_change_data = DowJones_change_r.json()\n",
    "pprint(DowJones_change_data['observations'][0:4])\n",
    "pprint(DowJones_change_data['observations'][-5:])\n"
   ]
  },
  {
   "cell_type": "markdown",
   "metadata": {},
   "source": [
    "#### Dow Jones Percent Change Dataframe"
   ]
  },
  {
   "cell_type": "code",
   "execution_count": null,
   "metadata": {},
   "outputs": [],
   "source": [
    "# Create Dow Jones Percent Change DataFrame\n",
    "DowJones_change_df = pd.DataFrame(DowJones_change_data)\n",
    "\n",
    "# Reformatting ata\n",
    "DowJones_change_df = DowJones_change_df['observations'].apply(pd.Series)\n",
    "DowJones_change_df = DowJones_change_df[['date','value']]\n",
    "DowJones_change_df = DowJones_change_df[DowJones_change_df['value'] != '.']\n",
    "DowJones_change_df['value'] = DowJones_change_df['value'].astype(float)\n",
    "DowJones_change_df['date'] = pd.to_datetime(DowJones_change_df['date'])\n",
    "DowJones_change_df.rename(columns={'date':'Date','value':'DowJones Percent Change'}, inplace=True)\n",
    "DowJones_change_df"
   ]
  },
  {
   "cell_type": "markdown",
   "metadata": {},
   "source": [
    "#### Dow Jones Percent Change Line Graph"
   ]
  },
  {
   "cell_type": "code",
   "execution_count": null,
   "metadata": {},
   "outputs": [],
   "source": [
    "# Plot Dow Jones Percent Change DataFrame\n",
    "DowJones_change_df.plot(x= 'Date', y='DowJones Percent Change', kind='line')\n",
    "plt.show()"
   ]
  },
  {
   "cell_type": "markdown",
   "metadata": {},
   "source": [
    "#### Dow Jones Value Change Import"
   ]
  },
  {
   "cell_type": "code",
   "execution_count": null,
   "metadata": {},
   "outputs": [],
   "source": [
    "# Import Dow Jones Value Change Data\n",
    "DowJones_valuechange_url = f'https://api.stlouisfed.org/fred/series/observations?series_id=DJIA&frequency=m&api_key={api_key}&file_type=json&units=chg'\n",
    "DowJones_valuechange_r=requests.get(DowJones_valuechange_url)\n",
    "DowJones_valuechange_data = DowJones_valuechange_r.json()\n",
    "pprint(DowJones_valuechange_data['observations'][0:4])\n",
    "pprint(DowJones_valuechange_data['observations'][-5:])\n"
   ]
  },
  {
   "cell_type": "markdown",
   "metadata": {},
   "source": [
    "#### Dow Jones Value Change DataFrame"
   ]
  },
  {
   "cell_type": "code",
   "execution_count": null,
   "metadata": {},
   "outputs": [],
   "source": [
    "# Create Dow Jones Value Change DataFrame\n",
    "DowJones_valuechange_df = pd.DataFrame(DowJones_valuechange_data)\n",
    "\n",
    "# Reformatting data\n",
    "DowJones_valuechange_df = DowJones_valuechange_df['observations'].apply(pd.Series)\n",
    "DowJones_valuechange_df = DowJones_valuechange_df[['date','value']]\n",
    "DowJones_valuechange_df = DowJones_valuechange_df[DowJones_valuechange_df['value'] != '.']\n",
    "DowJones_valuechange_df['value'] = DowJones_valuechange_df['value'].astype(float)\n",
    "DowJones_valuechange_df['date'] = pd.to_datetime(DowJones_valuechange_df['date'])\n",
    "DowJones_valuechange_df.rename(columns={'date':'Date','value':'DowJones Value Change'}, inplace=True)\n",
    "DowJones_valuechange_df\n"
   ]
  },
  {
   "cell_type": "markdown",
   "metadata": {},
   "source": [
    "#### Dow Jones Value Change Line Graph"
   ]
  },
  {
   "cell_type": "code",
   "execution_count": null,
   "metadata": {},
   "outputs": [],
   "source": [
    "# Plot Dow Jones Value Change DataFrame\n",
    "DowJones_valuechange_df.plot(x= 'Date', y='DowJones Value Change', kind='line')\n",
    "plt.show()\n"
   ]
  },
  {
   "cell_type": "markdown",
   "metadata": {},
   "source": [
    "## Data Cleanup & Wrangling"
   ]
  },
  {
   "cell_type": "markdown",
   "metadata": {},
   "source": [
    "#### S&P 500, NASDAQ, Dow Jones Combined DataFrame\n",
    "    \n",
    "    "
   ]
  },
  {
   "cell_type": "code",
   "execution_count": null,
   "metadata": {},
   "outputs": [],
   "source": [
    "# Merge the DataFrames (All Index Values)\n",
    "index_df = pd.merge(NASDAQ_df, SP500_df, on='Date', how='outer').merge(DowJones_df, on='Date', how='outer')\n",
    "index_df"
   ]
  },
  {
   "cell_type": "markdown",
   "metadata": {},
   "source": [
    "#### Combined Index Dataframe Line Graph"
   ]
  },
  {
   "cell_type": "code",
   "execution_count": null,
   "metadata": {},
   "outputs": [],
   "source": [
    "# Plot All Indexes\n",
    "fig, ax = plt.subplots()\n",
    "index_df.plot(x='Date', kind='line', ax=ax)"
   ]
  },
  {
   "cell_type": "markdown",
   "metadata": {},
   "source": [
    "#### Combined DataFrame (2013-YTD)"
   ]
  },
  {
   "cell_type": "code",
   "execution_count": null,
   "metadata": {},
   "outputs": [],
   "source": [
    "# Merge the DataFrames (2013-YTD)\n",
    "ytd_df = pd.merge(NASDAQ_df, SP500_df, on='Date').merge(DowJones_df, on='Date')\n",
    "ytd_df"
   ]
  },
  {
   "cell_type": "markdown",
   "metadata": {},
   "source": [
    "#### Combined Index DataFrame (2013-YTD) Line Graph"
   ]
  },
  {
   "cell_type": "code",
   "execution_count": null,
   "metadata": {},
   "outputs": [],
   "source": [
    "# Plot Indexes (2013-YTD)\n",
    "fig, ax = plt.subplots()\n",
    "ytd_df.plot(x='Date', kind='line', ax=ax)"
   ]
  },
  {
   "cell_type": "markdown",
   "metadata": {},
   "source": [
    "#### Combined Percent Change DataFrames"
   ]
  },
  {
   "cell_type": "code",
   "execution_count": null,
   "metadata": {},
   "outputs": [],
   "source": [
    "# Merge the Percent Change DataFrames (All Indexes)\n",
    "index_change_df = pd.merge(NASDAQ_change_df, SP500_change_df, on='Date', how='outer').merge(DowJones_change_df, on='Date', how='outer')\n",
    "index_change_df"
   ]
  },
  {
   "cell_type": "markdown",
   "metadata": {},
   "source": [
    "#### Combined Index Percent Change Line Graph"
   ]
  },
  {
   "cell_type": "code",
   "execution_count": null,
   "metadata": {},
   "outputs": [],
   "source": [
    "# Plot Percent Change Indexes\n",
    "fig, ax = plt.subplots()\n",
    "index_change_df.plot(x='Date', kind='line', ax=ax)\n",
    "plt.show()"
   ]
  },
  {
   "cell_type": "markdown",
   "metadata": {},
   "source": [
    "#### Combined Percent Change DataFrame (2013-YTD)"
   ]
  },
  {
   "cell_type": "code",
   "execution_count": null,
   "metadata": {},
   "outputs": [],
   "source": [
    "# Merge the Percent Change DataFrames (2013-YTD)\n",
    "ytd_change_df = pd.merge(NASDAQ_change_df, SP500_change_df, on='Date').merge(DowJones_change_df, on='Date')\n",
    "ytd_change_df"
   ]
  },
  {
   "cell_type": "markdown",
   "metadata": {},
   "source": [
    "#### Combined Index Percent Change (2013-YTD) Line Graph"
   ]
  },
  {
   "cell_type": "code",
   "execution_count": null,
   "metadata": {},
   "outputs": [],
   "source": [
    "# Plot Percent Change Indexes (2013-YTD)\n",
    "fig, ax = plt.subplots()\n",
    "ytd_change_df.plot(x='Date', kind='line', ax=ax)\n",
    "plt.show()"
   ]
  },
  {
   "cell_type": "markdown",
   "metadata": {},
   "source": [
    "### Combined Percent Change DataFrame + Fed Funds DataFrame\n",
    "#### All Data Percent Change"
   ]
  },
  {
   "cell_type": "code",
   "execution_count": null,
   "metadata": {},
   "outputs": [],
   "source": [
    "# Merge the Percent Change DataFrame + Fed Funds DataFrame (All Data)\n",
    "ffindex_change_df = pd.merge(index_change_df, ff_change_df, on='Date', how='outer')\n",
    "ffindex_change_df.head(1000)"
   ]
  },
  {
   "cell_type": "markdown",
   "metadata": {},
   "source": [
    "#### All Data Percent Change Line Graph"
   ]
  },
  {
   "cell_type": "code",
   "execution_count": null,
   "metadata": {
    "scrolled": true
   },
   "outputs": [],
   "source": [
    "# Plot Percent Change\n",
    "fig, ax = plt.subplots()\n",
    "ffindex_change_df.plot(x='Date', kind='line', ax=ax)\n",
    "plt.show()"
   ]
  },
  {
   "cell_type": "markdown",
   "metadata": {},
   "source": [
    "#### All Data Percent Change DataFrame (2013-YTD)"
   ]
  },
  {
   "cell_type": "code",
   "execution_count": null,
   "metadata": {},
   "outputs": [],
   "source": [
    "# Merge All Percent Change DataFrames (2013-YTD)\n",
    "all_ytd_change_df = pd.merge(ytd_change_df, ff_change_df, on='Date')\n",
    "all_ytd_change_df"
   ]
  },
  {
   "cell_type": "markdown",
   "metadata": {},
   "source": [
    "#### All Data Percent Change (2013-YTD) Line Graph"
   ]
  },
  {
   "cell_type": "code",
   "execution_count": null,
   "metadata": {},
   "outputs": [],
   "source": [
    "# Plot All Data Percent Change (2013-YTD)\n",
    "fig, ax = plt.subplots()\n",
    "all_ytd_change_df.plot(x='Date', kind='line', ax=ax)\n",
    "plt.show()"
   ]
  },
  {
   "cell_type": "markdown",
   "metadata": {},
   "source": [
    "### Combined Value Change DataFrames + Fed Funds DataFrame\n",
    "#### All Data Value Change"
   ]
  },
  {
   "cell_type": "code",
   "execution_count": null,
   "metadata": {},
   "outputs": [],
   "source": [
    "# Merge the Value Change DataFrames + Fed Funds DataFrame\n",
    "valuechg_df = pd.merge(SP500_valuechange_df, NASDAQ_valuechange_df, on='Date', how='outer').merge(DowJones_valuechange_df, on='Date', how='outer')\n",
    "valuechg_df = valuechg_df.merge(ff_valuechange_df, on='Date', how='outer')\n",
    "valuechg_df"
   ]
  },
  {
   "cell_type": "markdown",
   "metadata": {},
   "source": [
    "#### All Data Value Change Line Graph"
   ]
  },
  {
   "cell_type": "code",
   "execution_count": null,
   "metadata": {},
   "outputs": [],
   "source": [
    "# Plot Percent Change \n",
    "fig, ax = plt.subplots()\n",
    "valuechg_df.plot(x='Date', kind='line', ax=ax)\n",
    "plt.show()"
   ]
  },
  {
   "cell_type": "markdown",
   "metadata": {},
   "source": [
    "#### All Data Value Change DataFrame (2013-YTD)"
   ]
  },
  {
   "cell_type": "code",
   "execution_count": null,
   "metadata": {},
   "outputs": [],
   "source": [
    "# Merge All Value Change DataFrames (2013-YTD)\n",
    "# Merge with Inner Join on Date\n",
    "valuechg_inner_df = pd.merge(SP500_valuechange_df, NASDAQ_valuechange_df, on='Date', how='inner').merge(DowJones_valuechange_df, on='Date', how='inner')\n",
    "valuechg_inner_df = valuechg_inner_df.merge(ff_valuechange_df, on='Date', how='inner')\n",
    "valuechg_inner_df"
   ]
  },
  {
   "cell_type": "markdown",
   "metadata": {},
   "source": [
    "#### All Data Value Change Line Graph"
   ]
  },
  {
   "cell_type": "code",
   "execution_count": null,
   "metadata": {},
   "outputs": [],
   "source": [
    "# Plot Value Change (2013-YTD)\n",
    "fig, ax = plt.subplots()\n",
    "valuechg_inner_df.plot(x='Date', kind='line', ax=ax)\n",
    "plt.show()"
   ]
  },
  {
   "cell_type": "markdown",
   "metadata": {},
   "source": [
    "## Write CSV "
   ]
  },
  {
   "cell_type": "code",
   "execution_count": null,
   "metadata": {},
   "outputs": [],
   "source": [
    "# Combine All Dataframes \n",
    "combined_df = pd.merge(fed_df, index_df, on='Date')\n",
    "combined_df = combined_df.merge(all_ytd_change_df, on='Date')\n",
    "combined_df = combined_df.merge(valuechg_df, on='Date')\n",
    "combined_df"
   ]
  },
  {
   "cell_type": "code",
   "execution_count": null,
   "metadata": {},
   "outputs": [],
   "source": [
    "# Write combined DataFrame to CSV\n",
    "path = os.path.join('resources/combined_index_df.csv')\n",
    "combined_df.to_csv(path, index=False)"
   ]
  },
  {
   "cell_type": "markdown",
   "metadata": {},
   "source": [
    "## Sources"
   ]
  },
  {
   "cell_type": "code",
   "execution_count": null,
   "metadata": {},
   "outputs": [],
   "source": [
    "# Sources\n",
    "print(\"Sources\")\n",
    "print(\"https://fred.stlouisfed.org/docs/api/fred/\")\n"
   ]
  }
 ],
 "metadata": {
  "kernelspec": {
   "display_name": "PythonData",
   "language": "python",
   "name": "pythondata"
  },
  "language_info": {
   "codemirror_mode": {
    "name": "ipython",
    "version": 3
   },
   "file_extension": ".py",
   "mimetype": "text/x-python",
   "name": "python",
   "nbconvert_exporter": "python",
   "pygments_lexer": "ipython3",
   "version": "3.9.13"
  },
  "vscode": {
   "interpreter": {
    "hash": "39eac581a2bd756e52c7d82c0742816c5bfacda14a3aad401275192a00635310"
   }
  }
 },
 "nbformat": 4,
 "nbformat_minor": 2
}
