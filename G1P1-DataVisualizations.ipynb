{
 "cells": [
  {
   "cell_type": "markdown",
   "id": "48d3197b",
   "metadata": {},
   "source": [
    "# Group 1 - Project 1\n",
    "## Data Visualizations"
   ]
  },
  {
   "cell_type": "code",
   "execution_count": 8,
   "id": "93a3e593",
   "metadata": {},
   "outputs": [],
   "source": [
    "# Overview of plots\n",
    "# ---Explanation---\n",
    "\n",
    "## Line graph: Fed Funds vs Time\n",
    "## Line graphs: Overall Index Valuation vs Time\n",
    "## Line graph: Index Value Growth Rate vs Time\n",
    "## Line graph: Fed Funds Rate \n",
    "## Box Plot: \n",
    "## Regression Line\n",
    "## Correlation Coefficient"
   ]
  },
  {
   "cell_type": "code",
   "execution_count": 1,
   "id": "a84d6e7b",
   "metadata": {},
   "outputs": [],
   "source": [
    "# Import libraries\n",
    "import pandas as pd\n",
    "import matplotlib.pyplot as plt\n",
    "import numpy as np\n",
    "import os\n",
    "import scipy.stats as st\n",
    "import requests\n",
    "import json\n",
    "import pprint\n",
    "from FedConfig import api_key"
   ]
  },
  {
   "cell_type": "code",
   "execution_count": 4,
   "id": "603c2182",
   "metadata": {},
   "outputs": [
    {
     "ename": "ModuleNotFoundError",
     "evalue": "No module named 'project1_data_analysis'",
     "output_type": "error",
     "traceback": [
      "\u001b[1;31m---------------------------------------------------------------------------\u001b[0m",
      "\u001b[1;31mModuleNotFoundError\u001b[0m                       Traceback (most recent call last)",
      "\u001b[1;32m~\\AppData\\Local\\Temp\\ipykernel_11580\\3316328439.py\u001b[0m in \u001b[0;36m<module>\u001b[1;34m\u001b[0m\n\u001b[0;32m      1\u001b[0m \u001b[1;31m# Import Data from G1P1 Analysis notebook\u001b[0m\u001b[1;33m\u001b[0m\u001b[1;33m\u001b[0m\u001b[0m\n\u001b[1;32m----> 2\u001b[1;33m \u001b[1;32mfrom\u001b[0m \u001b[0mproject1_data_analysis\u001b[0m \u001b[1;32mimport\u001b[0m \u001b[0mfed_df\u001b[0m\u001b[1;33m\u001b[0m\u001b[1;33m\u001b[0m\u001b[0m\n\u001b[0m",
      "\u001b[1;31mModuleNotFoundError\u001b[0m: No module named 'project1_data_analysis'"
     ]
    }
   ],
   "source": [
    "# Import Data from G1P1 Analysis notebook\n",
    "from project1_data_analysis import fed_df"
   ]
  },
  {
   "cell_type": "markdown",
   "id": "4769250f",
   "metadata": {},
   "source": []
  },
  {
   "cell_type": "markdown",
   "id": "22be6880",
   "metadata": {},
   "source": [
    "### Line Graph: Fed Funds Rate "
   ]
  },
  {
   "cell_type": "code",
   "execution_count": null,
   "id": "49397724",
   "metadata": {},
   "outputs": [],
   "source": []
  },
  {
   "cell_type": "markdown",
   "id": "f9dc2853",
   "metadata": {},
   "source": [
    "---Explanation--"
   ]
  },
  {
   "cell_type": "markdown",
   "id": "493340ae",
   "metadata": {},
   "source": [
    "### Line Graph: Fed Funds vs Time \n"
   ]
  },
  {
   "cell_type": "code",
   "execution_count": null,
   "id": "72bbc74c",
   "metadata": {},
   "outputs": [],
   "source": []
  },
  {
   "cell_type": "markdown",
   "id": "2539e420",
   "metadata": {},
   "source": [
    "---Explanation--"
   ]
  },
  {
   "cell_type": "code",
   "execution_count": null,
   "id": "dd406bd6",
   "metadata": {},
   "outputs": [],
   "source": []
  },
  {
   "cell_type": "markdown",
   "id": "bdbac561",
   "metadata": {},
   "source": [
    "### Line Graphs: Overall Index Valuation vs Time"
   ]
  },
  {
   "cell_type": "code",
   "execution_count": null,
   "id": "e31e280d",
   "metadata": {},
   "outputs": [],
   "source": []
  },
  {
   "cell_type": "markdown",
   "id": "ef87ca17",
   "metadata": {},
   "source": [
    "---Explanation--"
   ]
  },
  {
   "attachments": {},
   "cell_type": "markdown",
   "id": "53256061",
   "metadata": {},
   "source": [
    "## Line Graphs: NASDAQ Index Valuation vs Time"
   ]
  },
  {
   "cell_type": "markdown",
   "id": "e7bb0f26",
   "metadata": {},
   "source": [
    "### Line Graph: Index Value Growth Rate vs Time\n"
   ]
  },
  {
   "cell_type": "code",
   "execution_count": null,
   "id": "431ebe63",
   "metadata": {},
   "outputs": [],
   "source": []
  },
  {
   "cell_type": "markdown",
   "id": "d1cdf868",
   "metadata": {},
   "source": [
    "---Explanation--"
   ]
  },
  {
   "cell_type": "code",
   "execution_count": null,
   "id": "5f3fcb3f",
   "metadata": {},
   "outputs": [],
   "source": []
  },
  {
   "cell_type": "markdown",
   "id": "b074ee6c",
   "metadata": {},
   "source": [
    "## Fed Funds vs NASDAQ (% change monthly plot)\n"
   ]
  },
  {
   "cell_type": "code",
   "execution_count": null,
   "id": "6a4d6206",
   "metadata": {},
   "outputs": [],
   "source": []
  },
  {
   "cell_type": "markdown",
   "id": "f4247072",
   "metadata": {},
   "source": [
    "---Explanation---"
   ]
  },
  {
   "cell_type": "markdown",
   "id": "aa097e5d",
   "metadata": {},
   "source": [
    "### Box Plot: \n"
   ]
  },
  {
   "cell_type": "code",
   "execution_count": null,
   "id": "7581e9a0",
   "metadata": {},
   "outputs": [],
   "source": []
  },
  {
   "cell_type": "markdown",
   "id": "ddb34420",
   "metadata": {},
   "source": [
    "---Explanation--"
   ]
  },
  {
   "cell_type": "markdown",
   "id": "7bb2b4d2",
   "metadata": {},
   "source": [
    "### Regression Plot Line\n"
   ]
  },
  {
   "cell_type": "code",
   "execution_count": null,
   "id": "83f211e1",
   "metadata": {},
   "outputs": [],
   "source": []
  },
  {
   "cell_type": "markdown",
   "id": "f525c6de",
   "metadata": {},
   "source": [
    "---Explanation--"
   ]
  },
  {
   "cell_type": "markdown",
   "id": "27ebc789",
   "metadata": {},
   "source": [
    "### Correlation Coefficient"
   ]
  },
  {
   "cell_type": "code",
   "execution_count": null,
   "id": "23f75ee0",
   "metadata": {},
   "outputs": [],
   "source": []
  },
  {
   "cell_type": "markdown",
   "id": "6dca7e15",
   "metadata": {},
   "source": [
    "---Explanation--"
   ]
  },
  {
   "cell_type": "markdown",
   "id": "8b86ca5a",
   "metadata": {},
   "source": [
    "## P-Value"
   ]
  },
  {
   "cell_type": "code",
   "execution_count": null,
   "id": "fbd42143",
   "metadata": {},
   "outputs": [],
   "source": []
  },
  {
   "cell_type": "markdown",
   "id": "2f82f3d1",
   "metadata": {},
   "source": [
    "---Explanation--"
   ]
  },
  {
   "cell_type": "markdown",
   "id": "b6e737ed",
   "metadata": {},
   "source": [
    "## Summary"
   ]
  },
  {
   "cell_type": "markdown",
   "id": "f121745c",
   "metadata": {},
   "source": [
    "---Explanation--"
   ]
  },
  {
   "cell_type": "code",
   "execution_count": null,
   "id": "22f57cca",
   "metadata": {},
   "outputs": [],
   "source": []
  }
 ],
 "metadata": {
  "kernelspec": {
   "display_name": "PythonData",
   "language": "python",
   "name": "pythondata"
  },
  "language_info": {
   "codemirror_mode": {
    "name": "ipython",
    "version": 3
   },
   "file_extension": ".py",
   "mimetype": "text/x-python",
   "name": "python",
   "nbconvert_exporter": "python",
   "pygments_lexer": "ipython3",
   "version": "3.9.13"
  },
  "vscode": {
   "interpreter": {
    "hash": "6f42bcaf75ead1afa3e13462ed89ae1ab3ed0ff67e1e3c0bad673416e582d8f2"
   }
  }
 },
 "nbformat": 4,
 "nbformat_minor": 5
}
